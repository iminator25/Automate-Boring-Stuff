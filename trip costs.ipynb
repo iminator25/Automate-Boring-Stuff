{
 "cells": [
  {
   "cell_type": "code",
   "execution_count": 50,
   "metadata": {},
   "outputs": [],
   "source": [
    "import re\n",
    "f = open('karl_costs.txt','r')"
   ]
  },
  {
   "cell_type": "code",
   "execution_count": 51,
   "metadata": {},
   "outputs": [],
   "source": [
    "lines = f.readlines()\n"
   ]
  },
  {
   "cell_type": "code",
   "execution_count": 52,
   "metadata": {},
   "outputs": [
    {
     "name": "stdout",
     "output_type": "stream",
     "text": [
      "36\n",
      "64\n",
      "20.67\n",
      "2\n",
      "30\n",
      "6.37\n",
      "7.88\n",
      "10\n",
      "20\n",
      "10\n",
      "12.79\n",
      "29\n",
      "10\n",
      "84\n",
      "100\n",
      "215\n",
      "24\n",
      "16.21\n",
      "45\n",
      "60\n",
      "40\n",
      "24\n",
      "19\n",
      "7\n",
      "15\n",
      "22.32\n",
      "12.26\n",
      "43\n",
      "12\n",
      "13\n",
      "64\n",
      "31.89\n",
      "5\n",
      "25\n",
      "30\n",
      "4\n",
      "30\n",
      "50\n",
      "10\n",
      "30\n",
      "69\n",
      "60\n",
      "15\n",
      "60\n",
      "35\n",
      "41\n",
      "15\n",
      "250\n"
     ]
    }
   ],
   "source": [
    "nums = []\n",
    "for i in lines:\n",
    "    x = re.sub(r'[^0-9,\\.]', '', i)\n",
    "    print(x)\n",
    "    nums.append(float(x))"
   ]
  },
  {
   "cell_type": "code",
   "execution_count": 53,
   "metadata": {},
   "outputs": [
    {
     "name": "stdout",
     "output_type": "stream",
     "text": [
      "250.0\n"
     ]
    }
   ],
   "source": [
    "total = sum(nums)\n",
    "x = max(nums)\n",
    "print(x)"
   ]
  },
  {
   "cell_type": "code",
   "execution_count": 55,
   "metadata": {},
   "outputs": [
    {
     "name": "stdout",
     "output_type": "stream",
     "text": [
      "917.0\n"
     ]
    }
   ],
   "source": [
    "each = total // 2\n",
    "print(each)"
   ]
  },
  {
   "cell_type": "code",
   "execution_count": null,
   "metadata": {},
   "outputs": [],
   "source": []
  },
  {
   "cell_type": "code",
   "execution_count": null,
   "metadata": {},
   "outputs": [],
   "source": []
  }
 ],
 "metadata": {
  "kernelspec": {
   "display_name": "Python 3",
   "language": "python",
   "name": "python3"
  },
  "language_info": {
   "codemirror_mode": {
    "name": "ipython",
    "version": 3
   },
   "file_extension": ".py",
   "mimetype": "text/x-python",
   "name": "python",
   "nbconvert_exporter": "python",
   "pygments_lexer": "ipython3",
   "version": "3.7.4"
  }
 },
 "nbformat": 4,
 "nbformat_minor": 2
}
