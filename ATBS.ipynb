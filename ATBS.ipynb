{
 "cells": [
  {
   "cell_type": "code",
   "execution_count": 1,
   "metadata": {},
   "outputs": [],
   "source": [
    "import random\n",
    "from collections import Counter\n",
    "#collatz conjecture\n",
    "def collatz(number):\n",
    "        if (number == 1):\n",
    "            print(\"done\")\n",
    "            return\n",
    "        if(not number % 2):\n",
    "            print(number // 2)\n",
    "            number = number // 2\n",
    "        else:\n",
    "            print(number*3+1)\n",
    "            number = number*3+1\n",
    "        collatz(number)"
   ]
  },
  {
   "cell_type": "code",
   "execution_count": 2,
   "metadata": {},
   "outputs": [
    {
     "name": "stdout",
     "output_type": "stream",
     "text": [
      "3\n",
      "10\n",
      "5\n",
      "16\n",
      "8\n",
      "4\n",
      "2\n",
      "1\n",
      "done\n"
     ]
    }
   ],
   "source": [
    "start = int(input())\n",
    "collatz(start)"
   ]
  },
  {
   "cell_type": "code",
   "execution_count": 3,
   "metadata": {},
   "outputs": [],
   "source": [
    "# Comma Code\n",
    "def add_and(something):\n",
    "    ret = ''\n",
    "    for thing in something:\n",
    "        if (something.index(thing) == len(something)-1):\n",
    "            ret = ret + 'and ' + thing\n",
    "        else:\n",
    "            ret = ret + thing + ',' + ' '\n",
    "    print(ret)"
   ]
  },
  {
   "cell_type": "code",
   "execution_count": 4,
   "metadata": {},
   "outputs": [],
   "source": [
    "spam = ['apples', 'bannans', 'tofu','cats']"
   ]
  },
  {
   "cell_type": "code",
   "execution_count": 5,
   "metadata": {},
   "outputs": [
    {
     "name": "stdout",
     "output_type": "stream",
     "text": [
      "apples, bannans, tofu, and cats\n"
     ]
    }
   ],
   "source": [
    "add_and(spam)"
   ]
  },
  {
   "cell_type": "code",
   "execution_count": 6,
   "metadata": {},
   "outputs": [],
   "source": [
    "myCat = {'size': 'fat', 'color': 'gray', 'dispo':'loud'}"
   ]
  },
  {
   "cell_type": "code",
   "execution_count": 7,
   "metadata": {},
   "outputs": [
    {
     "data": {
      "text/plain": [
       "'fat'"
      ]
     },
     "execution_count": 7,
     "metadata": {},
     "output_type": "execute_result"
    }
   ],
   "source": [
    "myCat['size']"
   ]
  },
  {
   "cell_type": "code",
   "execution_count": 8,
   "metadata": {},
   "outputs": [
    {
     "name": "stdout",
     "output_type": "stream",
     "text": [
      "size\n",
      "fat\n",
      "color\n",
      "gray\n",
      "dispo\n",
      "loud\n"
     ]
    }
   ],
   "source": [
    "for i, j in myCat.items():\n",
    "    print(i)\n",
    "    print(j)"
   ]
  },
  {
   "cell_type": "code",
   "execution_count": 9,
   "metadata": {},
   "outputs": [],
   "source": [
    "myCat['age'] = 42"
   ]
  },
  {
   "cell_type": "code",
   "execution_count": 10,
   "metadata": {},
   "outputs": [
    {
     "data": {
      "text/plain": [
       "{'size': 'fat', 'color': 'gray', 'dispo': 'loud', 'age': 42}"
      ]
     },
     "execution_count": 10,
     "metadata": {},
     "output_type": "execute_result"
    }
   ],
   "source": [
    "myCat"
   ]
  },
  {
   "cell_type": "code",
   "execution_count": 11,
   "metadata": {},
   "outputs": [],
   "source": [
    "def rS(s, n):\n",
    "    if 'a' not in s:\n",
    "        return(0)\n",
    "\n",
    "\n",
    "    if len(s) == 1:\n",
    "        return(n)\n",
    "\n",
    "    \n",
    "    times_in_one = 0\n",
    "    for i in s:\n",
    "        if i == 'a':\n",
    "            times_in_one += 1\n",
    "    \n",
    "    if n % len(s) == 0:\n",
    "        return(n*times_in_one)\n",
    "\n",
    "    add_letters = n % len(s)\n",
    "    new = s[:add_letters]\n",
    "\n",
    "    add_this = 0\n",
    "\n",
    "    for i in new:\n",
    "        if i == 'a':\n",
    "            add_this += 1\n",
    "    \n",
    "    \n",
    "\n",
    "    while (n % len(s) != 0):\n",
    "        n = n - 1\n",
    "    \n",
    "    times_in_n = n // len(s) * times_in_one\n",
    "    \n",
    "\n",
    "    return(times_in_n+add_this)"
   ]
  },
  {
   "cell_type": "code",
   "execution_count": 12,
   "metadata": {},
   "outputs": [
    {
     "data": {
      "text/plain": [
       "5157452344800"
      ]
     },
     "execution_count": 12,
     "metadata": {},
     "output_type": "execute_result"
    }
   ],
   "source": [
    "rS('kmretasscityylpdhuwjirnqimlkcgxubxmsxpypgzxtenweirknjtasxtvxemtwxuarabssvqdnktqadhyktagjxoanknhgilnm', 736778906400)"
   ]
  },
  {
   "cell_type": "code",
   "execution_count": 13,
   "metadata": {},
   "outputs": [
    {
     "data": {
      "text/plain": [
       "['123456789']"
      ]
     },
     "execution_count": 13,
     "metadata": {},
     "output_type": "execute_result"
    }
   ],
   "source": [
    "'123456789'.split()"
   ]
  },
  {
   "cell_type": "code",
   "execution_count": 14,
   "metadata": {},
   "outputs": [
    {
     "data": {
      "text/plain": [
       "['1', '2', '3', '4', '5', '6', '7', '8', '9']"
      ]
     },
     "execution_count": 14,
     "metadata": {},
     "output_type": "execute_result"
    }
   ],
   "source": [
    "'1 2 3 4 5 6 7 8 9'.split()"
   ]
  },
  {
   "cell_type": "code",
   "execution_count": 15,
   "metadata": {},
   "outputs": [
    {
     "data": {
      "text/plain": [
       "2"
      ]
     },
     "execution_count": 15,
     "metadata": {},
     "output_type": "execute_result"
    }
   ],
   "source": [
    "random.choice([1,2,3,4])"
   ]
  },
  {
   "cell_type": "code",
   "execution_count": 16,
   "metadata": {},
   "outputs": [],
   "source": [
    "things  = {'rope': 1, 'torch': 6, 'gold coin': 42, 'dagger': 1, 'arrow': 12}\n",
    "def displayInventory(dic):\n",
    "    print('Inventory:')\n",
    "    sum = 0\n",
    "    for k, v in dic.items():\n",
    "        print(v , ' ' , k)\n",
    "        sum += v\n",
    "    print('Total items: ', sum)"
   ]
  },
  {
   "cell_type": "code",
   "execution_count": 17,
   "metadata": {
    "scrolled": true
   },
   "outputs": [
    {
     "name": "stdout",
     "output_type": "stream",
     "text": [
      "Inventory:\n",
      "1   rope\n",
      "6   torch\n",
      "42   gold coin\n",
      "1   dagger\n",
      "12   arrow\n",
      "Total items:  62\n"
     ]
    }
   ],
   "source": [
    "displayInventory(things)"
   ]
  },
  {
   "cell_type": "code",
   "execution_count": 18,
   "metadata": {},
   "outputs": [],
   "source": [
    "def addToInv(Inv, addedItems):\n",
    "    for i in addedItems:\n",
    "        if i not in Inv:\n",
    "            Inv[i] = 1\n",
    "        else:\n",
    "            Inv[i] += 1\n",
    "    displayInventory(Inv)"
   ]
  },
  {
   "cell_type": "code",
   "execution_count": 19,
   "metadata": {},
   "outputs": [
    {
     "name": "stdout",
     "output_type": "stream",
     "text": [
      "Inventory:\n",
      "45   g c\n",
      "1   rope\n",
      "1   dag\n",
      "1   ruby\n",
      "Total items:  48\n"
     ]
    }
   ],
   "source": [
    "addToInv({'g c': 42, 'rope': 1}, ['g c', 'dag', 'g c', 'g c', 'ruby'])"
   ]
  },
  {
   "cell_type": "code",
   "execution_count": 20,
   "metadata": {},
   "outputs": [],
   "source": [
    "import pyperclip as ppc"
   ]
  },
  {
   "cell_type": "code",
   "execution_count": 21,
   "metadata": {},
   "outputs": [
    {
     "data": {
      "text/plain": [
       "' Antikythera'"
      ]
     },
     "execution_count": 21,
     "metadata": {},
     "output_type": "execute_result"
    }
   ],
   "source": [
    "ppc.paste()"
   ]
  },
  {
   "cell_type": "code",
   "execution_count": 22,
   "metadata": {},
   "outputs": [
    {
     "ename": "TypeError",
     "evalue": "unsupported operand type(s) for -: 'dict' and 'dict'",
     "output_type": "error",
     "traceback": [
      "\u001b[0;31m---------------------------------------------------------------------------\u001b[0m",
      "\u001b[0;31mTypeError\u001b[0m                                 Traceback (most recent call last)",
      "\u001b[0;32m<ipython-input-22-c65b5b19827e>\u001b[0m in \u001b[0;36m<module>\u001b[0;34m\u001b[0m\n\u001b[1;32m      1\u001b[0m \u001b[0mtest_dict1\u001b[0m \u001b[0;34m=\u001b[0m \u001b[0;34m{\u001b[0m\u001b[0;34m'gfg'\u001b[0m \u001b[0;34m:\u001b[0m \u001b[0;36m6\u001b[0m\u001b[0;34m,\u001b[0m \u001b[0;34m'is'\u001b[0m \u001b[0;34m:\u001b[0m \u001b[0;36m4\u001b[0m\u001b[0;34m,\u001b[0m \u001b[0;34m'best'\u001b[0m \u001b[0;34m:\u001b[0m \u001b[0;36m7\u001b[0m\u001b[0;34m}\u001b[0m\u001b[0;34m\u001b[0m\u001b[0;34m\u001b[0m\u001b[0m\n\u001b[1;32m      2\u001b[0m \u001b[0mtest_dict2\u001b[0m \u001b[0;34m=\u001b[0m \u001b[0;34m{\u001b[0m\u001b[0;34m'gfg'\u001b[0m \u001b[0;34m:\u001b[0m \u001b[0;36m10\u001b[0m\u001b[0;34m,\u001b[0m \u001b[0;34m'is'\u001b[0m \u001b[0;34m:\u001b[0m \u001b[0;36m6\u001b[0m\u001b[0;34m,\u001b[0m \u001b[0;34m'best'\u001b[0m \u001b[0;34m:\u001b[0m \u001b[0;36m10\u001b[0m\u001b[0;34m}\u001b[0m\u001b[0;34m\u001b[0m\u001b[0;34m\u001b[0m\u001b[0m\n\u001b[0;32m----> 3\u001b[0;31m \u001b[0mx\u001b[0m \u001b[0;34m=\u001b[0m \u001b[0mtest_dict2\u001b[0m \u001b[0;34m-\u001b[0m \u001b[0mtest_dict1\u001b[0m\u001b[0;34m\u001b[0m\u001b[0;34m\u001b[0m\u001b[0m\n\u001b[0m",
      "\u001b[0;31mTypeError\u001b[0m: unsupported operand type(s) for -: 'dict' and 'dict'"
     ]
    }
   ],
   "source": [
    "test_dict1 = {'gfg' : 6, 'is' : 4, 'best' : 7} \n",
    "test_dict2 = {'gfg' : 10, 'is' : 6, 'best' : 10} \n",
    "x = test_dict2 - test_dict1"
   ]
  },
  {
   "cell_type": "code",
   "execution_count": 23,
   "metadata": {},
   "outputs": [
    {
     "data": {
      "text/plain": [
       "True"
      ]
     },
     "execution_count": 23,
     "metadata": {},
     "output_type": "execute_result"
    }
   ],
   "source": [
    "note =           Counter({'give': 1, 'one': 1, 'grand': 1, 'today': 1})\n",
    "magazine =  Counter({'give': 1, 'me': 1, 'one': 1, 'grand': 1, 'today': 1, 'night': 1})\n",
    "note - magazine == {}"
   ]
  },
  {
   "cell_type": "code",
   "execution_count": 24,
   "metadata": {},
   "outputs": [
    {
     "data": {
      "text/plain": [
       "Counter({'b': 1, 'f': 1})"
      ]
     },
     "execution_count": 24,
     "metadata": {},
     "output_type": "execute_result"
    }
   ],
   "source": [
    "c1 = Counter(a=1, b=0, c=-1,f=1)\n",
    "c2 = Counter(a=1, b=-1, c=2,d=1)\n",
    "c1 - c2"
   ]
  },
  {
   "cell_type": "code",
   "execution_count": 25,
   "metadata": {},
   "outputs": [
    {
     "name": "stdout",
     "output_type": "stream",
     "text": [
      "true\n"
     ]
    }
   ],
   "source": [
    "if {1}:\n",
    "    print('true')\n",
    "else:\n",
    "    print('gaU')"
   ]
  },
  {
   "cell_type": "markdown",
   "metadata": {},
   "source": [
    "List of animals\n",
    "List of aquariams\n",
    "Lists of biologists by author\n",
    "Lists of cultivars\n"
   ]
  },
  {
   "cell_type": "code",
   "execution_count": 26,
   "metadata": {},
   "outputs": [
    {
     "ename": "NameError",
     "evalue": "name 'pyperclip' is not defined",
     "output_type": "error",
     "traceback": [
      "\u001b[0;31m---------------------------------------------------------------------------\u001b[0m",
      "\u001b[0;31mNameError\u001b[0m                                 Traceback (most recent call last)",
      "\u001b[0;32m<ipython-input-26-495203732753>\u001b[0m in \u001b[0;36m<module>\u001b[0;34m\u001b[0m\n\u001b[0;32m----> 1\u001b[0;31m \u001b[0mtext\u001b[0m \u001b[0;34m=\u001b[0m \u001b[0mpyperclip\u001b[0m\u001b[0;34m.\u001b[0m\u001b[0mpaste\u001b[0m\u001b[0;34m(\u001b[0m\u001b[0;34m)\u001b[0m\u001b[0;34m\u001b[0m\u001b[0;34m\u001b[0m\u001b[0m\n\u001b[0m",
      "\u001b[0;31mNameError\u001b[0m: name 'pyperclip' is not defined"
     ]
    }
   ],
   "source": [
    "text = pyperclip.paste()"
   ]
  },
  {
   "cell_type": "code",
   "execution_count": 27,
   "metadata": {},
   "outputs": [
    {
     "ename": "NameError",
     "evalue": "name 'text' is not defined",
     "output_type": "error",
     "traceback": [
      "\u001b[0;31m---------------------------------------------------------------------------\u001b[0m",
      "\u001b[0;31mNameError\u001b[0m                                 Traceback (most recent call last)",
      "\u001b[0;32m<ipython-input-27-aa785adca3fc>\u001b[0m in \u001b[0;36m<module>\u001b[0;34m\u001b[0m\n\u001b[0;32m----> 1\u001b[0;31m \u001b[0mtext\u001b[0m\u001b[0;34m\u001b[0m\u001b[0;34m\u001b[0m\u001b[0m\n\u001b[0m",
      "\u001b[0;31mNameError\u001b[0m: name 'text' is not defined"
     ]
    }
   ],
   "source": [
    "text"
   ]
  },
  {
   "cell_type": "code",
   "execution_count": 28,
   "metadata": {},
   "outputs": [
    {
     "name": "stdout",
     "output_type": "stream",
     "text": [
      "Phone number found: 415-888-9091\n"
     ]
    }
   ],
   "source": [
    "import re\n",
    "phoneNumRegex = re.compile(r'\\d\\d\\d-\\d\\d\\d-\\d\\d\\d\\d')\n",
    "mo = phoneNumRegex.search('My number is 415-888-9091.')\n",
    "if mo:\n",
    "    print('Phone number found: ' + mo.group())\n",
    "    "
   ]
  },
  {
   "cell_type": "code",
   "execution_count": 29,
   "metadata": {},
   "outputs": [
    {
     "name": "stdout",
     "output_type": "stream",
     "text": [
      "Batwoman\n",
      "Batman\n"
     ]
    }
   ],
   "source": [
    "batRegex = re.compile(r'Bat(wo)+man')\n",
    "mo1 = batRegex.search('The adventures of Batwoman and Batman')\n",
    "print(mo1.group())\n",
    "batRegex = re.compile(r'Bat(wo)?man|Bat(wo)?man')\n",
    "mo1 = batRegex.search('The adventures of Batman and Batwoman')\n",
    "print(mo1.group())"
   ]
  },
  {
   "cell_type": "code",
   "execution_count": 30,
   "metadata": {},
   "outputs": [
    {
     "name": "stdout",
     "output_type": "stream",
     "text": [
      "{'a': 5, 'b': 3, 'c': 2, 'd': 1}\n"
     ]
    }
   ],
   "source": [
    "st = 'aaaaabbbccd'\n",
    "\n",
    "dic = {}\n",
    "for i in st:\n",
    "    key = i\n",
    "    if key in dic:\n",
    "        dic[key] += 1\n",
    "    else:\n",
    "        dic[key] = 1\n",
    "        \n",
    "print(dic)"
   ]
  },
  {
   "cell_type": "code",
   "execution_count": 31,
   "metadata": {},
   "outputs": [
    {
     "data": {
      "text/plain": [
       "[[1, 5], [8, 9]]"
      ]
     },
     "execution_count": 31,
     "metadata": {},
     "output_type": "execute_result"
    }
   ],
   "source": [
    "#Merge overlapping intervals. See below for example:\n",
    "# [1,3] [2,5] [8,9] => [1,5] [8,9]\n",
    "\n",
    "\n",
    "a = [[1,3] ,[2,5] ,[8,9]]\n",
    "\n",
    "for i in range(1,len(a)-1):\n",
    "    if a[i-1][1] > a[i][0]:\n",
    "        a[i] = [a[i-1][0],a[i][1]]\n",
    "    a.pop(i-1)\n",
    "    \n",
    "a\n"
   ]
  },
  {
   "cell_type": "code",
   "execution_count": 32,
   "metadata": {},
   "outputs": [],
   "source": [
    "#Bracket Matching \n",
    "# st = '{[]}()'\n",
    "\n",
    "# stack = []\n",
    "# for i in st:\n",
    "#     if i == '{' or i == '[' or i == '(':\n",
    "#         st.append(i)\n",
    "#     else:\n",
    "#         val = st.pop()\n",
    "#     if val == '}' or val == ']' or val == ')':\n",
    "#         if i == \n",
    "        \n",
    "        "
   ]
  },
  {
   "cell_type": "code",
   "execution_count": 33,
   "metadata": {},
   "outputs": [],
   "source": [
    "# Number of ways a number can be summed up with memoization \n",
    "memo = [-1]*1000\n",
    "def ways_of_sum_up(n):\n",
    "\n",
    "    if (n == 0):\n",
    "        return 1\n",
    "    if (n < 0):\n",
    "        return 0\n",
    "    if (memo[n] != -1):\n",
    "        return memo[n]\n",
    "    else:\n",
    "        ans = ways_of_sum_up (n-1) + ways_of_sum_up (n-2) \n",
    "    return(ans)"
   ]
  },
  {
   "cell_type": "code",
   "execution_count": 34,
   "metadata": {},
   "outputs": [
    {
     "data": {
      "text/plain": [
       "5"
      ]
     },
     "execution_count": 34,
     "metadata": {},
     "output_type": "execute_result"
    }
   ],
   "source": [
    "ways_of_sum_up(4)"
   ]
  },
  {
   "cell_type": "code",
   "execution_count": 35,
   "metadata": {},
   "outputs": [],
   "source": [
    "# Reverse a string in place\n",
    "st = 'hello'\n",
    "def Rip(s):\n",
    "    s = list(s)\n",
    "    l = len(s)-1\n",
    "    for i in range(len(s)//2):\n",
    "        temp = s[i]\n",
    "        s[i] = s[l]\n",
    "        s[l] = temp\n",
    "        l-=1\n",
    "        print(('').join(s))\n",
    "    return(('').join(s))"
   ]
  },
  {
   "cell_type": "code",
   "execution_count": 36,
   "metadata": {},
   "outputs": [
    {
     "name": "stdout",
     "output_type": "stream",
     "text": [
      "dello worlh\n",
      "dlllo woreh\n",
      "dlrlo woleh\n",
      "dlroo wlleh\n",
      "dlrow olleh\n"
     ]
    },
    {
     "data": {
      "text/plain": [
       "'dlrow olleh'"
      ]
     },
     "execution_count": 36,
     "metadata": {},
     "output_type": "execute_result"
    }
   ],
   "source": [
    "Rip('hello world')"
   ]
  },
  {
   "cell_type": "code",
   "execution_count": 37,
   "metadata": {},
   "outputs": [],
   "source": [
    "l = [9,3,4,8,1,4,9,10,17,3,2,5]"
   ]
  },
  {
   "cell_type": "code",
   "execution_count": 38,
   "metadata": {},
   "outputs": [
    {
     "data": {
      "text/plain": [
       "[9, 3, 4, 8, 1, 4, 9, 10, 17, 3, 2, 5]"
      ]
     },
     "execution_count": 38,
     "metadata": {},
     "output_type": "execute_result"
    }
   ],
   "source": [
    "l"
   ]
  },
  {
   "cell_type": "code",
   "execution_count": 39,
   "metadata": {},
   "outputs": [
    {
     "data": {
      "text/plain": [
       "{1, 2, 3, 4, 5, 8, 9, 10, 17}"
      ]
     },
     "execution_count": 39,
     "metadata": {},
     "output_type": "execute_result"
    }
   ],
   "source": [
    "s = set(l)\n",
    "s"
   ]
  },
  {
   "cell_type": "code",
   "execution_count": 40,
   "metadata": {},
   "outputs": [
    {
     "name": "stdout",
     "output_type": "stream",
     "text": [
      "A***nono** gave the secret documents to B***nono**\n"
     ]
    }
   ],
   "source": [
    "namesRegex = re.compile(r'Agent (\\w)\\w+')\n",
    "print(namesRegex.sub(r'\\1***nono**', 'Agent Alic gave the secret documents to Agent Bob'))"
   ]
  },
  {
   "cell_type": "code",
   "execution_count": 41,
   "metadata": {},
   "outputs": [],
   "source": [
    "# phone and email script\n",
    "\n",
    "phoneRegex = re.compile(r'''(\n",
    "(\\d{3} | \\(\\d{3}\\))?       #area code\n",
    "(\\s|-|\\.)?                     # seperator\n",
    "(\\d{3})                        # first 3 digits\n",
    "(\\s|-|\\.)?                     # seperator\n",
    "(\\d{4})                       # last 4 digits\n",
    "(\\s*(ext|x|ext.)\\s*(\\d{2,5}))?    # extension\n",
    ")''', re.VERBOSE)\n",
    "\n",
    "emailRegex = re.compile(r'''(\n",
    "(\\w+@\\w+)\n",
    ")''', re.VERBOSE)"
   ]
  },
  {
   "cell_type": "code",
   "execution_count": 42,
   "metadata": {},
   "outputs": [],
   "source": [
    "import os"
   ]
  },
  {
   "cell_type": "code",
   "execution_count": 43,
   "metadata": {},
   "outputs": [],
   "source": [
    "x = os.getcwd()"
   ]
  },
  {
   "cell_type": "code",
   "execution_count": 44,
   "metadata": {},
   "outputs": [
    {
     "data": {
      "text/plain": [
       "'/Users/imey/Desktop/Learning'"
      ]
     },
     "execution_count": 44,
     "metadata": {},
     "output_type": "execute_result"
    }
   ],
   "source": [
    "os.path.abspath(x)"
   ]
  },
  {
   "cell_type": "code",
   "execution_count": 45,
   "metadata": {},
   "outputs": [
    {
     "data": {
      "text/plain": [
       "True"
      ]
     },
     "execution_count": 45,
     "metadata": {},
     "output_type": "execute_result"
    }
   ],
   "source": [
    "os.path.isabs(x)"
   ]
  },
  {
   "cell_type": "code",
   "execution_count": 46,
   "metadata": {},
   "outputs": [
    {
     "data": {
      "text/plain": [
       "'/Users/imey/Desktop/Learning'"
      ]
     },
     "execution_count": 46,
     "metadata": {},
     "output_type": "execute_result"
    }
   ],
   "source": [
    "os.path.abspath('.')"
   ]
  },
  {
   "cell_type": "code",
   "execution_count": 47,
   "metadata": {},
   "outputs": [
    {
     "data": {
      "text/plain": [
       "'.'"
      ]
     },
     "execution_count": 47,
     "metadata": {},
     "output_type": "execute_result"
    }
   ],
   "source": [
    "os.path.relpath(x)"
   ]
  },
  {
   "cell_type": "code",
   "execution_count": 48,
   "metadata": {},
   "outputs": [
    {
     "data": {
      "text/plain": [
       "'.'"
      ]
     },
     "execution_count": 48,
     "metadata": {},
     "output_type": "execute_result"
    }
   ],
   "source": [
    "os.path.relpath('.')"
   ]
  },
  {
   "cell_type": "code",
   "execution_count": 49,
   "metadata": {},
   "outputs": [
    {
     "data": {
      "text/plain": [
       "'Learning'"
      ]
     },
     "execution_count": 49,
     "metadata": {},
     "output_type": "execute_result"
    }
   ],
   "source": [
    "os.path.basename(x)"
   ]
  },
  {
   "cell_type": "code",
   "execution_count": 50,
   "metadata": {},
   "outputs": [
    {
     "data": {
      "text/plain": [
       "'/Users/imey/Desktop'"
      ]
     },
     "execution_count": 50,
     "metadata": {},
     "output_type": "execute_result"
    }
   ],
   "source": [
    "os.path.dirname(x)"
   ]
  },
  {
   "cell_type": "code",
   "execution_count": 51,
   "metadata": {},
   "outputs": [
    {
     "data": {
      "text/plain": [
       "1024"
      ]
     },
     "execution_count": 51,
     "metadata": {},
     "output_type": "execute_result"
    }
   ],
   "source": [
    "os.path.getsize(x)"
   ]
  },
  {
   "cell_type": "code",
   "execution_count": 52,
   "metadata": {},
   "outputs": [
    {
     "data": {
      "text/plain": [
       "['myCats.py',\n",
       " 'mikes.txt',\n",
       " 'quasi.c',\n",
       " '.DS_Store',\n",
       " 'recover-binary-search-tree.py',\n",
       " 'Linked_list.py',\n",
       " 'soundcard_test.py',\n",
       " 'Dayton_match_1.game',\n",
       " 'quizGenerator.py',\n",
       " 'the_zoo.py',\n",
       " 'mcb.db',\n",
       " 'phoneAndEmail.py',\n",
       " 'shelftest.py',\n",
       " 'ATBS.ipynb',\n",
       " 'trip costs.ipynb',\n",
       " 'geckodriver.log',\n",
       " 'mydata.db',\n",
       " 'mcb.pyw',\n",
       " 'karl_costs.txt',\n",
       " 'josh_folk',\n",
       " 'UNO',\n",
       " 'quasi.ps',\n",
       " 'pw.py',\n",
       " '.ipynb_checkpoints',\n",
       " 'quasi_sol.c',\n",
       " 'hello.txt',\n",
       " 'bday_script.py',\n",
       " 'quizzes',\n",
       " 'mike_costs.txt',\n",
       " 'nohup.out']"
      ]
     },
     "execution_count": 52,
     "metadata": {},
     "output_type": "execute_result"
    }
   ],
   "source": [
    "os.listdir(x)"
   ]
  },
  {
   "cell_type": "code",
   "execution_count": 53,
   "metadata": {},
   "outputs": [
    {
     "data": {
      "text/plain": [
       "'/Users/imey/Desktop/Learning'"
      ]
     },
     "execution_count": 53,
     "metadata": {},
     "output_type": "execute_result"
    }
   ],
   "source": [
    "x"
   ]
  },
  {
   "cell_type": "code",
   "execution_count": 54,
   "metadata": {},
   "outputs": [
    {
     "data": {
      "text/plain": [
       "146"
      ]
     },
     "execution_count": 54,
     "metadata": {},
     "output_type": "execute_result"
    }
   ],
   "source": [
    "os.path.getsize(x+'/mikes.txt')"
   ]
  },
  {
   "cell_type": "code",
   "execution_count": 55,
   "metadata": {},
   "outputs": [
    {
     "name": "stdout",
     "output_type": "stream",
     "text": [
      "127413\n"
     ]
    }
   ],
   "source": [
    "Learning_size = 0\n",
    "for filename in os.listdir():\n",
    "    Learning_size += os.path.getsize(os.path.join(x,filename))\n",
    "print(Learning_size)"
   ]
  },
  {
   "cell_type": "code",
   "execution_count": 56,
   "metadata": {},
   "outputs": [],
   "source": [
    "helloFile = open('/Users/imey/Desktop/Learning/hello.txt','w')"
   ]
  },
  {
   "cell_type": "code",
   "execution_count": 57,
   "metadata": {},
   "outputs": [
    {
     "data": {
      "text/plain": [
       "12"
      ]
     },
     "execution_count": 57,
     "metadata": {},
     "output_type": "execute_result"
    }
   ],
   "source": [
    "helloFile.write('Hello world!')"
   ]
  },
  {
   "cell_type": "code",
   "execution_count": 58,
   "metadata": {},
   "outputs": [],
   "source": [
    "helloFile.close()"
   ]
  },
  {
   "cell_type": "code",
   "execution_count": 59,
   "metadata": {},
   "outputs": [],
   "source": [
    "helloFile = open('/Users/imey/Desktop/Learning/hello.txt')"
   ]
  },
  {
   "cell_type": "code",
   "execution_count": 60,
   "metadata": {},
   "outputs": [
    {
     "data": {
      "text/plain": [
       "'Hello world!'"
      ]
     },
     "execution_count": 60,
     "metadata": {},
     "output_type": "execute_result"
    }
   ],
   "source": [
    "helloFile.read()"
   ]
  },
  {
   "cell_type": "code",
   "execution_count": 61,
   "metadata": {},
   "outputs": [],
   "source": [
    "import shelve\n",
    "shelfFile = shelve.open('mydata')"
   ]
  },
  {
   "cell_type": "code",
   "execution_count": 62,
   "metadata": {},
   "outputs": [],
   "source": [
    "import myCats"
   ]
  },
  {
   "cell_type": "code",
   "execution_count": 63,
   "metadata": {},
   "outputs": [
    {
     "data": {
      "text/plain": [
       "[{'desc': 'chubby', 'name': 'Zophie'}, {'desc': 'fluffy', 'name': 'Pooka'}]"
      ]
     },
     "execution_count": 63,
     "metadata": {},
     "output_type": "execute_result"
    }
   ],
   "source": [
    "myCats.cats"
   ]
  },
  {
   "cell_type": "code",
   "execution_count": 64,
   "metadata": {},
   "outputs": [
    {
     "data": {
      "text/plain": [
       "{'desc': 'chubby', 'name': 'Zophie'}"
      ]
     },
     "execution_count": 64,
     "metadata": {},
     "output_type": "execute_result"
    }
   ],
   "source": [
    "myCats.cats[0]"
   ]
  },
  {
   "cell_type": "code",
   "execution_count": 65,
   "metadata": {},
   "outputs": [
    {
     "data": {
      "text/plain": [
       "'Zophie'"
      ]
     },
     "execution_count": 65,
     "metadata": {},
     "output_type": "execute_result"
    }
   ],
   "source": [
    "myCats.cats[0]['name']"
   ]
  },
  {
   "cell_type": "code",
   "execution_count": 66,
   "metadata": {},
   "outputs": [],
   "source": [
    "capitals = {'Alabama': 'Montgomery', 'Alaska': 'Juneau', 'Arizon': 'Phoenix', 'Arkansas': 'Little Rock', \n",
    "'California': 'Sacramento', 'Colorado': 'Denver', 'Connecticut':'Hartford', 'Delaware':'Dover', \n",
    "'Florida':'Tallahasse','Georgia':'Atlanta', 'Hawaii':'Honolulu', 'Idaho':'Boise', 'Illinois':'Springfield',\n",
    "'Indiana':'Indianapolis', 'Iowa':'Des Moines','Kansa':'Topeka', 'Kentucky':'Frankfort', 'Louisina':'Batan Rouge', \n",
    "'Maine': 'Augusta', 'Maryland':'Annapolis', 'Massachusetts':'Boston', 'Michigan':'Lansing',\n",
    "'Minnesota':'St Paul', 'Mississipi':'Jackson', 'Missouri': 'Jefferson City', 'Montana': 'Helena', 'Nebraska': 'Lincoln',\n",
    "'Nevada':'Carson City', 'New Hampshire':'Concord', 'New Jersey': 'Trenton', 'New Mexico':'Santa Fe', 'New York': 'Albany',\n",
    "'North Carolina':'Raleigh', 'North Dakota': 'Bismark', 'Ohio': 'Columbus', 'Oklahoma':'Oklahoma City', 'Oregon': 'Salem',\n",
    "'Pennsylvania':'Harrisburg', 'Rhode Island': 'Providence', 'South Carolina':'Columbia', 'South Dakota':'Pierre',\n",
    "'Tennesee':'Nashville', 'Texas':'Austin', 'Utah': 'Salt Lake City', 'Vermont':'Montpelier', 'Virginia':'Richmond',\n",
    "'Washington': 'Olympia', 'West Virginia':'Charleston','Wisconsin':'Madison', 'Wyoming':'Cheyenne'}"
   ]
  },
  {
   "cell_type": "code",
   "execution_count": 67,
   "metadata": {},
   "outputs": [],
   "source": [
    " caps = list(capitals.values())"
   ]
  },
  {
   "cell_type": "code",
   "execution_count": 75,
   "metadata": {},
   "outputs": [],
   "source": [
    "import shutil"
   ]
  },
  {
   "cell_type": "code",
   "execution_count": 76,
   "metadata": {},
   "outputs": [
    {
     "name": "stdout",
     "output_type": "stream",
     "text": [
      "/Users/imey/Desktop/Learning\n"
     ]
    }
   ],
   "source": [
    "cwd = os.getcwd()\n",
    "print(cwd)"
   ]
  },
  {
   "cell_type": "code",
   "execution_count": 86,
   "metadata": {},
   "outputs": [
    {
     "data": {
      "text/plain": [
       "'/Users/imey/Desktop/hello.txt'"
      ]
     },
     "execution_count": 86,
     "metadata": {},
     "output_type": "execute_result"
    }
   ],
   "source": [
    "shutil.copy('hello.txt','/Users/imey/Desktop')"
   ]
  },
  {
   "cell_type": "code",
   "execution_count": 89,
   "metadata": {},
   "outputs": [
    {
     "data": {
      "text/plain": [
       "'/Users/imey/Desktop/hello.txt'"
      ]
     },
     "execution_count": 89,
     "metadata": {},
     "output_type": "execute_result"
    }
   ],
   "source": [
    "shutil.move('hello.txt','/Users/imey/Desktop/')"
   ]
  },
  {
   "cell_type": "code",
   "execution_count": 91,
   "metadata": {},
   "outputs": [
    {
     "name": "stdout",
     "output_type": "stream",
     "text": [
      "The current folder is /Users/imey/Desktop/Learning\n",
      "SUBFOLDER OF /Users/imey/Desktop/Learning: __pycache__\n",
      "SUBFOLDER OF /Users/imey/Desktop/Learning: josh_folk\n",
      "SUBFOLDER OF /Users/imey/Desktop/Learning: UNO\n",
      "SUBFOLDER OF /Users/imey/Desktop/Learning: .ipynb_checkpoints\n",
      "SUBFOLDER OF /Users/imey/Desktop/Learning: quizzes\n",
      "FILE INSIDE /Users/imey/Desktop/Learning: myCats.py\n",
      "FILE INSIDE /Users/imey/Desktop/Learning: mikes.txt\n",
      "FILE INSIDE /Users/imey/Desktop/Learning: quasi.c\n",
      "FILE INSIDE /Users/imey/Desktop/Learning: .DS_Store\n",
      "FILE INSIDE /Users/imey/Desktop/Learning: recover-binary-search-tree.py\n",
      "FILE INSIDE /Users/imey/Desktop/Learning: Linked_list.py\n",
      "FILE INSIDE /Users/imey/Desktop/Learning: soundcard_test.py\n",
      "FILE INSIDE /Users/imey/Desktop/Learning: Dayton_match_1.game\n",
      "FILE INSIDE /Users/imey/Desktop/Learning: quizGenerator.py\n",
      "FILE INSIDE /Users/imey/Desktop/Learning: the_zoo.py\n",
      "FILE INSIDE /Users/imey/Desktop/Learning: mcb.db\n",
      "FILE INSIDE /Users/imey/Desktop/Learning: phoneAndEmail.py\n",
      "FILE INSIDE /Users/imey/Desktop/Learning: shelftest.py\n",
      "FILE INSIDE /Users/imey/Desktop/Learning: ATBS.ipynb\n",
      "FILE INSIDE /Users/imey/Desktop/Learning: trip costs.ipynb\n",
      "FILE INSIDE /Users/imey/Desktop/Learning: geckodriver.log\n",
      "FILE INSIDE /Users/imey/Desktop/Learning: mydata.db\n",
      "FILE INSIDE /Users/imey/Desktop/Learning: mcb.pyw\n",
      "FILE INSIDE /Users/imey/Desktop/Learning: karl_costs.txt\n",
      "FILE INSIDE /Users/imey/Desktop/Learning: quasi.ps\n",
      "FILE INSIDE /Users/imey/Desktop/Learning: pw.py\n",
      "FILE INSIDE /Users/imey/Desktop/Learning: quasi_sol.c\n",
      "FILE INSIDE /Users/imey/Desktop/Learning: bday_script.py\n",
      "FILE INSIDE /Users/imey/Desktop/Learning: mike_costs.txt\n",
      "FILE INSIDE /Users/imey/Desktop/Learning: nohup.out\n",
      " \n",
      "The current folder is /Users/imey/Desktop/Learning/__pycache__\n",
      "FILE INSIDE /Users/imey/Desktop/Learning/__pycache__: myCats.cpython-37.pyc\n",
      " \n",
      "The current folder is /Users/imey/Desktop/Learning/josh_folk\n",
      "SUBFOLDER OF /Users/imey/Desktop/Learning/josh_folk: py_audio\n",
      "SUBFOLDER OF /Users/imey/Desktop/Learning/josh_folk: sound_device\n",
      "FILE INSIDE /Users/imey/Desktop/Learning/josh_folk: .DS_Store\n",
      "FILE INSIDE /Users/imey/Desktop/Learning/josh_folk: .Rapp.history\n",
      " \n",
      "The current folder is /Users/imey/Desktop/Learning/josh_folk/py_audio\n",
      "FILE INSIDE /Users/imey/Desktop/Learning/josh_folk/py_audio: .DS_Store\n",
      "FILE INSIDE /Users/imey/Desktop/Learning/josh_folk/py_audio: echoing.py\n",
      "FILE INSIDE /Users/imey/Desktop/Learning/josh_folk/py_audio: Sin_wave_generation.py\n",
      "FILE INSIDE /Users/imey/Desktop/Learning/josh_folk/py_audio: callbacktest.py\n",
      "FILE INSIDE /Users/imey/Desktop/Learning/josh_folk/py_audio: Sine.wav\n",
      "FILE INSIDE /Users/imey/Desktop/Learning/josh_folk/py_audio: generating_noise.py\n",
      "FILE INSIDE /Users/imey/Desktop/Learning/josh_folk/py_audio: Sine.wav.zip\n",
      "FILE INSIDE /Users/imey/Desktop/Learning/josh_folk/py_audio: soundcard_test.py\n",
      "FILE INSIDE /Users/imey/Desktop/Learning/josh_folk/py_audio: Read_Write.py\n",
      "FILE INSIDE /Users/imey/Desktop/Learning/josh_folk/py_audio: sinewave.py\n",
      "FILE INSIDE /Users/imey/Desktop/Learning/josh_folk/py_audio: recording_audio.py\n",
      "FILE INSIDE /Users/imey/Desktop/Learning/josh_folk/py_audio: no.wav\n",
      "FILE INSIDE /Users/imey/Desktop/Learning/josh_folk/py_audio: audacity.wav\n",
      "FILE INSIDE /Users/imey/Desktop/Learning/josh_folk/py_audio: 440Hz_44100Hz_16bit_05sec.wav\n",
      "FILE INSIDE /Users/imey/Desktop/Learning/josh_folk/py_audio: entering_wav_file.py\n",
      "FILE INSIDE /Users/imey/Desktop/Learning/josh_folk/py_audio: ATBS.ipynb\n",
      "FILE INSIDE /Users/imey/Desktop/Learning/josh_folk/py_audio: example.py\n",
      "FILE INSIDE /Users/imey/Desktop/Learning/josh_folk/py_audio: more_sine_generation.py\n",
      "FILE INSIDE /Users/imey/Desktop/Learning/josh_folk/py_audio: noooo.wav\n",
      "FILE INSIDE /Users/imey/Desktop/Learning/josh_folk/py_audio: Levis_thing.wav\n",
      "FILE INSIDE /Users/imey/Desktop/Learning/josh_folk/py_audio: 10secsine.wav\n",
      "FILE INSIDE /Users/imey/Desktop/Learning/josh_folk/py_audio: playing_audio.py\n",
      " \n",
      "The current folder is /Users/imey/Desktop/Learning/josh_folk/sound_device\n",
      "FILE INSIDE /Users/imey/Desktop/Learning/josh_folk/sound_device: .DS_Store\n",
      "FILE INSIDE /Users/imey/Desktop/Learning/josh_folk/sound_device: plotting_real_time.py\n",
      "FILE INSIDE /Users/imey/Desktop/Learning/josh_folk/sound_device: trying_with_sound_device.py\n",
      " \n",
      "The current folder is /Users/imey/Desktop/Learning/UNO\n",
      "SUBFOLDER OF /Users/imey/Desktop/Learning/UNO: Card_pics\n",
      "FILE INSIDE /Users/imey/Desktop/Learning/UNO: .DS_Store\n",
      "FILE INSIDE /Users/imey/Desktop/Learning/UNO: Main_UNO.html\n",
      " \n",
      "The current folder is /Users/imey/Desktop/Learning/UNO/Card_pics\n",
      "FILE INSIDE /Users/imey/Desktop/Learning/UNO/Card_pics: red_5.jpg\n",
      "FILE INSIDE /Users/imey/Desktop/Learning/UNO/Card_pics: red_4.jpg\n",
      "FILE INSIDE /Users/imey/Desktop/Learning/UNO/Card_pics: red_1.jpg\n",
      "FILE INSIDE /Users/imey/Desktop/Learning/UNO/Card_pics: red_3.jpg\n",
      "FILE INSIDE /Users/imey/Desktop/Learning/UNO/Card_pics: red_2.jpg\n",
      " \n",
      "The current folder is /Users/imey/Desktop/Learning/.ipynb_checkpoints\n",
      "FILE INSIDE /Users/imey/Desktop/Learning/.ipynb_checkpoints: ATBS-checkpoint.ipynb\n",
      "FILE INSIDE /Users/imey/Desktop/Learning/.ipynb_checkpoints: trip costs-checkpoint.ipynb\n",
      " \n",
      "The current folder is /Users/imey/Desktop/Learning/quizzes\n",
      "FILE INSIDE /Users/imey/Desktop/Learning/quizzes: capitalsquiz_answers8.txt\n",
      "FILE INSIDE /Users/imey/Desktop/Learning/quizzes: capitalsquiz_answers13.txt\n",
      "FILE INSIDE /Users/imey/Desktop/Learning/quizzes: capitalsquiz_answers12.txt\n",
      "FILE INSIDE /Users/imey/Desktop/Learning/quizzes: capitalsquiz_answers9.txt\n",
      "FILE INSIDE /Users/imey/Desktop/Learning/quizzes: capitalsquiz_answers10.txt\n",
      "FILE INSIDE /Users/imey/Desktop/Learning/quizzes: capitalsquiz_answers11.txt\n",
      "FILE INSIDE /Users/imey/Desktop/Learning/quizzes: capitalsquiz_answers15.txt\n",
      "FILE INSIDE /Users/imey/Desktop/Learning/quizzes: capitalsquiz9.txt\n",
      "FILE INSIDE /Users/imey/Desktop/Learning/quizzes: capitalsquiz_answers29.txt\n",
      "FILE INSIDE /Users/imey/Desktop/Learning/quizzes: capitalsquiz_answers28.txt\n",
      "FILE INSIDE /Users/imey/Desktop/Learning/quizzes: capitalsquiz8.txt\n",
      "FILE INSIDE /Users/imey/Desktop/Learning/quizzes: capitalsquiz_answers14.txt\n",
      "FILE INSIDE /Users/imey/Desktop/Learning/quizzes: capitalsquiz_answers16.txt\n",
      "FILE INSIDE /Users/imey/Desktop/Learning/quizzes: capitalsquiz_answers17.txt\n",
      "FILE INSIDE /Users/imey/Desktop/Learning/quizzes: capitalsquiz20.txt\n",
      "FILE INSIDE /Users/imey/Desktop/Learning/quizzes: capitalsquiz34.txt\n",
      "FILE INSIDE /Users/imey/Desktop/Learning/quizzes: capitalsquiz35.txt\n",
      "FILE INSIDE /Users/imey/Desktop/Learning/quizzes: capitalsquiz21.txt\n",
      "FILE INSIDE /Users/imey/Desktop/Learning/quizzes: capitalsquiz23.txt\n",
      "FILE INSIDE /Users/imey/Desktop/Learning/quizzes: capitalsquiz22.txt\n",
      "FILE INSIDE /Users/imey/Desktop/Learning/quizzes: capitalsquiz32.txt\n",
      "FILE INSIDE /Users/imey/Desktop/Learning/quizzes: capitalsquiz26.txt\n",
      "FILE INSIDE /Users/imey/Desktop/Learning/quizzes: capitalsquiz27.txt\n",
      "FILE INSIDE /Users/imey/Desktop/Learning/quizzes: capitalsquiz33.txt\n",
      "FILE INSIDE /Users/imey/Desktop/Learning/quizzes: capitalsquiz19.txt\n",
      "FILE INSIDE /Users/imey/Desktop/Learning/quizzes: capitalsquiz25.txt\n",
      "FILE INSIDE /Users/imey/Desktop/Learning/quizzes: capitalsquiz31.txt\n",
      "FILE INSIDE /Users/imey/Desktop/Learning/quizzes: capitalsquiz30.txt\n",
      "FILE INSIDE /Users/imey/Desktop/Learning/quizzes: capitalsquiz24.txt\n",
      "FILE INSIDE /Users/imey/Desktop/Learning/quizzes: capitalsquiz18.txt\n",
      "FILE INSIDE /Users/imey/Desktop/Learning/quizzes: capitalsquiz15.txt\n",
      "FILE INSIDE /Users/imey/Desktop/Learning/quizzes: capitalsquiz29.txt\n",
      "FILE INSIDE /Users/imey/Desktop/Learning/quizzes: capitalsquiz28.txt\n",
      "FILE INSIDE /Users/imey/Desktop/Learning/quizzes: capitalsquiz14.txt\n",
      "FILE INSIDE /Users/imey/Desktop/Learning/quizzes: capitalsquiz16.txt\n",
      "FILE INSIDE /Users/imey/Desktop/Learning/quizzes: capitalsquiz17.txt\n",
      "FILE INSIDE /Users/imey/Desktop/Learning/quizzes: capitalsquiz13.txt\n",
      "FILE INSIDE /Users/imey/Desktop/Learning/quizzes: capitalsquiz12.txt\n",
      "FILE INSIDE /Users/imey/Desktop/Learning/quizzes: capitalsquiz10.txt\n",
      "FILE INSIDE /Users/imey/Desktop/Learning/quizzes: capitalsquiz11.txt\n",
      "FILE INSIDE /Users/imey/Desktop/Learning/quizzes: capitalsquiz_answers1.txt\n",
      "FILE INSIDE /Users/imey/Desktop/Learning/quizzes: capitalsquiz6.txt\n",
      "FILE INSIDE /Users/imey/Desktop/Learning/quizzes: capitalsquiz_answers32.txt\n",
      "FILE INSIDE /Users/imey/Desktop/Learning/quizzes: capitalsquiz_answers26.txt\n",
      "FILE INSIDE /Users/imey/Desktop/Learning/quizzes: capitalsquiz_answers27.txt\n",
      "FILE INSIDE /Users/imey/Desktop/Learning/quizzes: capitalsquiz_answers33.txt\n",
      "FILE INSIDE /Users/imey/Desktop/Learning/quizzes: capitalsquiz7.txt\n",
      "FILE INSIDE /Users/imey/Desktop/Learning/quizzes: capitalsquiz_answers2.txt\n",
      "FILE INSIDE /Users/imey/Desktop/Learning/quizzes: capitalsquiz_answers19.txt\n",
      "FILE INSIDE /Users/imey/Desktop/Learning/quizzes: capitalsquiz_answers25.txt\n",
      "FILE INSIDE /Users/imey/Desktop/Learning/quizzes: capitalsquiz5.txt\n",
      "FILE INSIDE /Users/imey/Desktop/Learning/quizzes: capitalsquiz_answers31.txt\n",
      "FILE INSIDE /Users/imey/Desktop/Learning/quizzes: capitalsquiz_answers30.txt\n",
      "FILE INSIDE /Users/imey/Desktop/Learning/quizzes: capitalsquiz4.txt\n",
      "FILE INSIDE /Users/imey/Desktop/Learning/quizzes: capitalsquiz_answers24.txt\n",
      "FILE INSIDE /Users/imey/Desktop/Learning/quizzes: capitalsquiz_answers18.txt\n",
      "FILE INSIDE /Users/imey/Desktop/Learning/quizzes: capitalsquiz_answers3.txt\n",
      "FILE INSIDE /Users/imey/Desktop/Learning/quizzes: capitalsquiz_answers7.txt\n",
      "FILE INSIDE /Users/imey/Desktop/Learning/quizzes: capitalsquiz_answers20.txt\n",
      "FILE INSIDE /Users/imey/Desktop/Learning/quizzes: capitalsquiz_answers34.txt\n",
      "FILE INSIDE /Users/imey/Desktop/Learning/quizzes: capitalsquiz_answers35.txt\n",
      "FILE INSIDE /Users/imey/Desktop/Learning/quizzes: capitalsquiz1.txt\n",
      "FILE INSIDE /Users/imey/Desktop/Learning/quizzes: capitalsquiz_answers21.txt\n",
      "FILE INSIDE /Users/imey/Desktop/Learning/quizzes: capitalsquiz_answers6.txt\n",
      "FILE INSIDE /Users/imey/Desktop/Learning/quizzes: capitalsquiz_answers4.txt\n",
      "FILE INSIDE /Users/imey/Desktop/Learning/quizzes: capitalsquiz3.txt\n",
      "FILE INSIDE /Users/imey/Desktop/Learning/quizzes: capitalsquiz_answers23.txt\n",
      "FILE INSIDE /Users/imey/Desktop/Learning/quizzes: capitalsquiz_answers22.txt\n",
      "FILE INSIDE /Users/imey/Desktop/Learning/quizzes: capitalsquiz2.txt\n",
      "FILE INSIDE /Users/imey/Desktop/Learning/quizzes: capitalsquiz_answers5.txt\n",
      " \n"
     ]
    }
   ],
   "source": [
    "for foldername, subfolders, filenames in os.walk(cwd):\n",
    "    print('The current folder is ' + foldername)\n",
    "    for subfolder in subfolders:\n",
    "        print('SUBFOLDER OF ' + foldername + ': '+ subfolder)\n",
    "    for filename in filenames:\n",
    "        print('FILE INSIDE '+ foldername + ': ' + filename)\n",
    "    print(' ')"
   ]
  },
  {
   "cell_type": "code",
   "execution_count": 92,
   "metadata": {},
   "outputs": [],
   "source": [
    "import zipfile"
   ]
  },
  {
   "cell_type": "code",
   "execution_count": 102,
   "metadata": {},
   "outputs": [
    {
     "data": {
      "text/plain": [
       "'/Users/imey/Desktop/Learning/CArds'"
      ]
     },
     "execution_count": 102,
     "metadata": {},
     "output_type": "execute_result"
    }
   ],
   "source": [
    "os.getcwd()"
   ]
  },
  {
   "cell_type": "code",
   "execution_count": 106,
   "metadata": {},
   "outputs": [],
   "source": [
    "os.chdir('/Users/imey/Desktop/Learning/UNO/Card_pics')"
   ]
  },
  {
   "cell_type": "code",
   "execution_count": 154,
   "metadata": {},
   "outputs": [],
   "source": [
    "unnamedCards = os.listdir()"
   ]
  },
  {
   "cell_type": "code",
   "execution_count": 155,
   "metadata": {},
   "outputs": [],
   "source": [
    "unnamedCards.sort()"
   ]
  },
  {
   "cell_type": "code",
   "execution_count": 156,
   "metadata": {},
   "outputs": [
    {
     "data": {
      "text/plain": [
       "['.DS_Store',\n",
       " 'blue_0.jpg',\n",
       " 'blue_1.jpg',\n",
       " 'blue_2.jpg',\n",
       " 'blue_3.jpg',\n",
       " 'blue_4.jpg',\n",
       " 'blue_5.jpg',\n",
       " 'blue_6.jpg',\n",
       " 'blue_7.jpg',\n",
       " 'blue_8.jpg',\n",
       " 'blue_9.jpg',\n",
       " 'blue_plus2.jpg',\n",
       " 'blue_reverse.jpg',\n",
       " 'blue_skip.jpg',\n",
       " 'green_0.jpg',\n",
       " 'green_1.jpg',\n",
       " 'green_2.jpg',\n",
       " 'green_3.jpg',\n",
       " 'green_4.jpg',\n",
       " 'green_5.jpg',\n",
       " 'green_6.jpg',\n",
       " 'green_7.jpg',\n",
       " 'green_8.jpg',\n",
       " 'green_9.jpg',\n",
       " 'green_plus2.jpg',\n",
       " 'green_reverse.jpg',\n",
       " 'green_skip.jpg',\n",
       " 'pickColor_0.jpg',\n",
       " 'pickColor_1.jpg',\n",
       " 'pickColor_2.jpg',\n",
       " 'pickColor_3.jpg',\n",
       " 'plus4Pick_0.jpg',\n",
       " 'plus4Pick_1.jpg',\n",
       " 'plus4Pick_2.jpg',\n",
       " 'plus4Pick_3.jpg',\n",
       " 'red_0.jpg',\n",
       " 'red_1.jpg',\n",
       " 'red_2.jpg',\n",
       " 'red_3.jpg',\n",
       " 'red_4.jpg',\n",
       " 'red_5.jpg',\n",
       " 'red_6.jpg',\n",
       " 'red_7.jpg',\n",
       " 'red_8.jpg',\n",
       " 'red_9.jpg',\n",
       " 'red_plus2.jpg',\n",
       " 'red_reverse.jpg',\n",
       " 'red_skip.jpg',\n",
       " 'yellow_0.jpg',\n",
       " 'yellow_1.jpg',\n",
       " 'yellow_2.jpg',\n",
       " 'yellow_3.jpg',\n",
       " 'yellow_4.jpg',\n",
       " 'yellow_5.jpg',\n",
       " 'yellow_6.jpg',\n",
       " 'yellow_7.jpg',\n",
       " 'yellow_8.jpg',\n",
       " 'yellow_9.jpg',\n",
       " 'yellow_plus2.jpg',\n",
       " 'yellow_reverse.jpg',\n",
       " 'yellow_skip.jpg']"
      ]
     },
     "execution_count": 156,
     "metadata": {},
     "output_type": "execute_result"
    }
   ],
   "source": [
    "unnamedCards"
   ]
  },
  {
   "cell_type": "code",
   "execution_count": 148,
   "metadata": {},
   "outputs": [],
   "source": [
    "import shutil"
   ]
  },
  {
   "cell_type": "code",
   "execution_count": 152,
   "metadata": {},
   "outputs": [],
   "source": [
    "for i in range(4):\n",
    "    shutil.copy('Screen Shot 2020-10-07 at 22.31.29 AM.jpg','plus4Pick_'+str(i)+'.jpg')"
   ]
  },
  {
   "cell_type": "code",
   "execution_count": null,
   "metadata": {},
   "outputs": [],
   "source": []
  }
 ],
 "metadata": {
  "kernelspec": {
   "display_name": "Python 3",
   "language": "python",
   "name": "python3"
  },
  "language_info": {
   "codemirror_mode": {
    "name": "ipython",
    "version": 3
   },
   "file_extension": ".py",
   "mimetype": "text/x-python",
   "name": "python",
   "nbconvert_exporter": "python",
   "pygments_lexer": "ipython3",
   "version": "3.7.4"
  }
 },
 "nbformat": 4,
 "nbformat_minor": 2
}
